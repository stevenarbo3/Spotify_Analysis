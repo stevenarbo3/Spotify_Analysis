{
 "cells": [
  {
   "cell_type": "code",
   "execution_count": 13,
   "metadata": {},
   "outputs": [],
   "source": [
    "#import necessary libraries for analysis\n",
    "import pandas as pd\n",
    "import numpy as np\n",
    "import matplotlib.pyplot as plt\n",
    "import seaborn as sns\n",
    "\n",
    "#for auth\n",
    "import os\n",
    "from dotenv import load_dotenv\n",
    "\n",
    "#for spotify api\n",
    "import spotipy\n",
    "from spotipy.oauth2 import SpotifyOAuth"
   ]
  },
  {
   "cell_type": "code",
   "execution_count": 17,
   "metadata": {},
   "outputs": [
    {
     "name": "stdout",
     "output_type": "stream",
     "text": [
      "289d15da450c423aadf2ecdfdf7d2688\n"
     ]
    }
   ],
   "source": [
    "#get credentials from .env\n",
    "load_dotenv()\n",
    "\n",
    "#set up spotipy\n",
    "client_id=os.getenv('SPOTIPY_CLIENT_ID')\n",
    "client_secret=os.getenv('SPOTIPY_CLIENT_SECRET')\n",
    "redirect_uri=os.getenv('SPOTIPY_REDIRECT_URI')\n",
    "\n",
    "scope = 'user-library-read'\n",
    "\n",
    "sp = spotipy.Spotify(auth_manager=SpotifyOAuth(client_id=client_id,\n",
    "                                               client_secret=client_secret,\n",
    "                                               redirect_uri=redirect_uri,\n",
    "                                                scope=scope))"
   ]
  }
 ],
 "metadata": {
  "kernelspec": {
   "display_name": "base",
   "language": "python",
   "name": "python3"
  },
  "language_info": {
   "codemirror_mode": {
    "name": "ipython",
    "version": 3
   },
   "file_extension": ".py",
   "mimetype": "text/x-python",
   "name": "python",
   "nbconvert_exporter": "python",
   "pygments_lexer": "ipython3",
   "version": "3.9.19"
  }
 },
 "nbformat": 4,
 "nbformat_minor": 2
}
